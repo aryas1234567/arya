{
 "cells": [
  {
   "cell_type": "raw",
   "metadata": {
    "vscode": {
     "languageId": "raw"
    }
   },
   "source": [
    "---\n",
    "layout: post\n",
    "title: Multiple Choice Corrections\n",
    "description: Corrections for Multiple Choice 2018\n",
    "type: issues \n",
    "comments: true\n",
    "---"
   ]
  },
  {
   "cell_type": "markdown",
   "metadata": {},
   "source": [
    "# 2018 MC Summary:"
   ]
  },
  {
   "cell_type": "markdown",
   "metadata": {},
   "source": [
    "This MCQ was difficult in some parts, and easy in some parts. Some areas where I was weak on were comparing loop algorithms, comparing code segments, and logic gates. After looking online, I learned about these topics and what they mean."
   ]
  },
  {
   "cell_type": "markdown",
   "metadata": {},
   "source": [
    "# Question 45: Logic Gate"
   ]
  },
  {
   "cell_type": "markdown",
   "metadata": {},
   "source": [
    "Question 45 involved a NAND logic gate. I chose option B, (NOT P) and Q, and the answer was NOT ( P and Q), This is right because the P and Q values are evaluted to false when both P and Q are true, and are true otherwise. I got this wrong because I have not learned about the NOT and AND logic operators."
   ]
  },
  {
   "cell_type": "markdown",
   "metadata": {},
   "source": [
    "# Question 14: Loop Algorithms"
   ]
  },
  {
   "cell_type": "markdown",
   "metadata": {},
   "source": [
    "Quesiton 14 involved an input system. I chose option D, that program A and program B display a different number of values, but the answer was that program A and B display the same number of values, but the values are different. This is true because both of the programs have the same loop that is running, that says repeat until i > 10. "
   ]
  },
  {
   "cell_type": "markdown",
   "metadata": {},
   "source": [
    "# Question 26: Robot Code"
   ]
  },
  {
   "cell_type": "markdown",
   "metadata": {},
   "source": [
    "This question involved a robot needing to be moved to a gray spot. The right answer was A, because it checks if the robot can move right, and if it can then rotate right. If the if condition is not met, then it moves forwad, allowing for the program to function. I chose the option C, which checks if the robot can move forward, and if it can then to move forward then rotate right. This program will make the robot move up and down from its original position and the square above it."
   ]
  },
  {
   "cell_type": "markdown",
   "metadata": {},
   "source": [
    "# Question 37: Comparing Code Segments"
   ]
  },
  {
   "cell_type": "markdown",
   "metadata": {},
   "source": [
    "This program has 2 input machines, both trying to display the average of the numbers. I put the answer that code segment 2 displays the correct average, but code segment 1 does not. THe right answer was that both of them display the correct average, but code segment 1 requires more arithmetic operators than code segment 2. The reason why this is true is because program 1 takes the average inside of the loop for each number, which will calculate the correct average, but do it multiple times. Program 2 takes the average after the sum if calculated for each number in the loop, which also displays the correct avergage."
   ]
  },
  {
   "cell_type": "markdown",
   "metadata": {},
   "source": [
    "When observing the content and skills performance, I was weakest in the 3.9 developing algorithms. A majority of the questions I got wrong were in that category, and I learned that"
   ]
  },
  {
   "cell_type": "markdown",
   "metadata": {},
   "source": [
    "# Question 16: Consequences of downloading licensed music seller"
   ]
  },
  {
   "cell_type": "markdown",
   "metadata": {},
   "source": [
    "For this question, it asked for the least likely consequence for downloading an arists albums and for a licensed music seller. I put that the album reviews from the people who live close by will be displayed to the user, but the answer was that the user will be in violation of the DCMA, which is the right option because the user is not in violation because it is a licensed music store."
   ]
  },
  {
   "cell_type": "markdown",
   "metadata": {},
   "source": [
    "# Question 39: Internet open standards and protocols"
   ]
  },
  {
   "cell_type": "markdown",
   "metadata": {},
   "source": [
    "In this question, it asks for a benefit of using open standards and protocols for internet communications. I put the answer that that it allows users to freely share or reuse material found on the internet for noncommercial purposes. The right answer was that the open standards and protocols allow different manafactuers and developers to build hardware and software that can communicate with hardware and software on the rest of the network. "
   ]
  }
 ],
 "metadata": {
  "kernelspec": {
   "display_name": "venv",
   "language": "python",
   "name": "python3"
  },
  "language_info": {
   "name": "python",
   "version": "3.10.12"
  }
 },
 "nbformat": 4,
 "nbformat_minor": 2
}

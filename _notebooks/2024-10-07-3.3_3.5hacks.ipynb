{
 "cells": [
  {
   "cell_type": "raw",
   "metadata": {
    "vscode": {
     "languageId": "raw"
    }
   },
   "source": [
    "---\n",
    "layout: post\n",
    "title: 3.3 and 3.5 Hacks \n",
    "description:  Popcorn and Homework hacks completed from lesson \n",
    "type: issues \n",
    "comments: true\n",
    "---"
   ]
  },
  {
   "cell_type": "markdown",
   "metadata": {},
   "source": [
    "# 3.3 Popcorn Hack 1"
   ]
  },
  {
   "cell_type": "code",
   "execution_count": null,
   "metadata": {},
   "outputs": [],
   "source": [
    "def calculate_y(x):\n",
    "    y = 7 * (x + 4) - 6\n",
    "    return y\n",
    "# this is an example of calling the function and putting an input for x\n",
    "x_value = 4\n",
    "result = calculate_y(x_value)\n",
    "print(f\"The value of y when x = {x_value} is: {result}\")"
   ]
  },
  {
   "cell_type": "markdown",
   "metadata": {},
   "source": [
    "# 3.3 Popcorn Hack 2\n",
    "- The output of this code below is 86. First dividing 8 by 3 gives a remainder of 2. THen (2 x 8) + 70 = 86."
   ]
  },
  {
   "cell_type": "raw",
   "metadata": {
    "vscode": {
     "languageId": "raw"
    }
   },
   "source": [
    "number1 = 8\n",
    "number2 = 3\n",
    "number3 = number1 % number2\n",
    "number4 = number3 * number1 + 70\n",
    "print(number4)"
   ]
  },
  {
   "cell_type": "markdown",
   "metadata": {},
   "source": [
    "# 3.3 Popcorn Hack 3"
   ]
  },
  {
   "cell_type": "code",
   "execution_count": null,
   "metadata": {},
   "outputs": [],
   "source": [
    "numbers = [10, 15, 22, 33, 47, 60, 71, 88]\n",
    "\n",
    "for number in numbers:\n",
    "    if number % 3 == 0:\n",
    "        print(f\"{number} is divisible by 3.\")\n",
    "    else:\n",
    "        remainder = number % 3\n",
    "        print(f\"{number} is not divisible by 3. The remainder is {remainder}.\")"
   ]
  },
  {
   "cell_type": "markdown",
   "metadata": {},
   "source": [
    "# 3.3 Homework Hack 1"
   ]
  },
  {
   "cell_type": "code",
   "execution_count": null,
   "metadata": {},
   "outputs": [],
   "source": [
    "def fibonacci(n):\n",
    "    if n <= 0:\n",
    "        return \"Input should be a positive integer\"\n",
    "    elif n == 1:\n",
    "        return 0\n",
    "    elif n == 2:\n",
    "        return 1\n",
    "    else:\n",
    "        a, b = 0, 1\n",
    "        for _ in range(2, n):\n",
    "            a, b = b, a + b\n",
    "        return b\n",
    "\n",
    "\n",
    "n = int(input(\"Enter the term number for the Fibonacci sequence: \"))\n",
    "print(f\"The {n}th Fibonacci term is: {fibonacci(n)}\")"
   ]
  },
  {
   "cell_type": "markdown",
   "metadata": {},
   "source": [
    "# 3.3 Challenge Homework Hack"
   ]
  },
  {
   "cell_type": "code",
   "execution_count": null,
   "metadata": {},
   "outputs": [
    {
     "ename": "",
     "evalue": "",
     "output_type": "error",
     "traceback": [
      "\u001b[1;31mRunning cells with 'venv (Python 3.10.12)' requires the ipykernel package.\n",
      "\u001b[1;31mRun the following command to install 'ipykernel' into the Python environment. \n",
      "\u001b[1;31mCommand: '/home/aryas/nighthawk/arya/venv/bin/python -m pip install ipykernel -U --force-reinstall'"
     ]
    }
   ],
   "source": [
    "import math\n",
    "\n",
    "def calculate_area_or_volume():\n",
    "    calculation_type = input(\"Do you want to calculate area or volume? \").lower()\n",
    "\n",
    "    if calculation_type == 'area':\n",
    "        shape = input(\"Enter the shape for area calculation (circle, square, rectangle): \").lower()\n",
    "        \n",
    "        if shape == 'circle':\n",
    "            radius = float(input(\"Enter the radius of the circle: \"))\n",
    "            area = math.pi * (radius ** 2)\n",
    "            return f\"Area of the circle: {area}\"\n",
    "        \n",
    "        elif shape == 'square':\n",
    "            side = float(input(\"Enter the side length of the square: \"))\n",
    "            area = side ** 2\n",
    "            return f\"Area of the square: {area}\"\n",
    "        \n",
    "        elif shape == 'rectangle':\n",
    "            length = float(input(\"Enter the length of the rectangle: \"))\n",
    "            width = float(input(\"Enter the width of the rectangle: \"))\n",
    "            area = length * width\n",
    "            return f\"Area of the rectangle: {area}\"\n",
    "        \n",
    "        else:\n",
    "            return \"Shape not recognized for area calculation.\"\n",
    "\n",
    "    elif calculation_type == 'volume':\n",
    "        shape_3d = input(\"Enter the 3D shape for volume calculation (rectangular prism, sphere, pyramid): \").lower()\n",
    "        \n",
    "        if shape_3d == 'rectangular prism':\n",
    "            length = float(input(\"Enter the length: \"))\n",
    "            width = float(input(\"Enter the width: \"))\n",
    "            height = float(input(\"Enter the height: \"))\n",
    "            volume = length * width * height\n",
    "            return f\"Volume of the rectangular prism: {volume}\"\n",
    "        \n",
    "        elif shape_3d == 'sphere':\n",
    "            radius = float(input(\"Enter the radius: \"))\n",
    "            volume = (4/3) * math.pi * (radius ** 3)\n",
    "            return f\"Volume of the sphere: {volume}\"\n",
    "        \n",
    "        elif shape_3d == 'pyramid':\n",
    "            base = float(input(\"Enter the base length: \"))\n",
    "            width = float(input(\"Enter the width: \"))\n",
    "            height = float(input(\"Enter the height: \"))\n",
    "            volume = (1/3) * base * width * height\n",
    "            return f\"Volume of the pyramid: {volume}\"\n",
    "        \n",
    "        else:\n",
    "            return \"3D shape not recognized for volume calculation.\"\n",
    "    \n",
    "    else:\n",
    "        return \"Invalid calculation type. Choose 'area' or 'volume'.\"\n",
    "\n",
    "print(calculate_area_or_volume())"
   ]
  },
  {
   "cell_type": "markdown",
   "metadata": {},
   "source": [
    "# 3.5 Popcorn Hack 1\n",
    "- first checks if boolean is true\n",
    "- then checks if both or either is true"
   ]
  },
  {
   "cell_type": "code",
   "execution_count": null,
   "metadata": {},
   "outputs": [],
   "source": [
    "bool1 = True\n",
    "\n",
    "if bool1:\n",
    "    print(\"The boolean is True.\")\n",
    "else:\n",
    "    print(\"The boolean is False.\")"
   ]
  },
  {
   "cell_type": "code",
   "execution_count": null,
   "metadata": {},
   "outputs": [],
   "source": [
    "bool1 = True\n",
    "bool2 = False\n",
    "\n",
    "if bool1 and bool2:\n",
    "    print(\"Both booleans are True.\")\n",
    "elif bool1 or bool2:\n",
    "    print(\"Either one or both booleans are True.\")\n",
    "else:\n",
    "    print(\"Neither of the booleans is True.\")"
   ]
  },
  {
   "cell_type": "markdown",
   "metadata": {},
   "source": [
    "# 3.5 Popcorn Hack 2"
   ]
  },
  {
   "cell_type": "code",
   "execution_count": null,
   "metadata": {},
   "outputs": [],
   "source": [
    "number = 12 \n",
    "\n",
    "is_greater_than_10 = number > 10\n",
    "\n",
    "print(is_greater_than_10)  \n",
    "\n",
    "# Print True if the number is greater than 10, False if not"
   ]
  },
  {
   "cell_type": "markdown",
   "metadata": {},
   "source": [
    "# 3.5 Popcorn Hack 3"
   ]
  },
  {
   "cell_type": "code",
   "execution_count": null,
   "metadata": {},
   "outputs": [],
   "source": [
    "number = 234 \n",
    "\n",
    "# abs to check for positive and negative numbers\n",
    "is_three_digits = (100 <= abs(number) <= 999)\n",
    "\n",
    "print(is_three_digits)  \n"
   ]
  },
  {
   "cell_type": "markdown",
   "metadata": {},
   "source": [
    "# 3.5 Homework Hack"
   ]
  },
  {
   "cell_type": "code",
   "execution_count": null,
   "metadata": {},
   "outputs": [],
   "source": [
    "def de_morgan_law():\n",
    "    print(\"A      B      ¬(A ∧ B)  ==  (¬A ∨ ¬B)\")\n",
    "    values = [False, True]\n",
    "    \n",
    "    for A in values:\n",
    "        for B in values:\n",
    "            result = not (A and B) == (not A or not B)\n",
    "            \n",
    "            print(f\"{A}  {B}  {not(A and B)}      ==    {not A or not B}    --> {result}\")\n",
    "\n",
    "\n",
    "de_morgan_law()"
   ]
  }
 ],
 "metadata": {
  "kernelspec": {
   "display_name": "venv",
   "language": "python",
   "name": "python3"
  },
  "language_info": {
   "name": "python",
   "version": "3.10.12"
  }
 },
 "nbformat": 4,
 "nbformat_minor": 2
}

{
 "cells": [
  {
   "cell_type": "raw",
   "metadata": {
    "vscode": {
     "languageId": "raw"
    }
   },
   "source": [
    "---\n",
    "layout: post\n",
    "title: 3.6 and 3.7 Hacks \n",
    "description:  Popcorn and Homework hacks completed from lesson \n",
    "type: issues \n",
    "comments: true\n",
    "---"
   ]
  },
  {
   "cell_type": "markdown",
   "metadata": {},
   "source": [
    "# 3.6 Homework Hack 1"
   ]
  },
  {
   "cell_type": "code",
   "execution_count": null,
   "metadata": {},
   "outputs": [
    {
     "ename": "",
     "evalue": "",
     "output_type": "error",
     "traceback": [
      "\u001b[1;31mRunning cells with 'venv (Python 3.10.12)' requires the ipykernel package.\n",
      "\u001b[1;31mRun the following command to install 'ipykernel' into the Python environment. \n",
      "\u001b[1;31mCommand: '/home/aryas/nighthawk/arya/venv/bin/python -m pip install ipykernel -U --force-reinstall'"
     ]
    }
   ],
   "source": [
    "num1 = float(input(\"Enter the first number: \"))\n",
    "num2 = float(input(\"Enter the second number: \"))\n",
    "\n",
    "if num1 == num2:\n",
    "    print(\"The numbers are equal.\")\n",
    "elif num1 > num2:\n",
    "    print(f\"The first number ({num1}) is larger.\")\n",
    "else:\n",
    "    print(f\"The second number ({num2}) is larger.\")"
   ]
  },
  {
   "cell_type": "markdown",
   "metadata": {},
   "source": [
    "# 3.7 Psuedocode Homework Hack 1"
   ]
  },
  {
   "cell_type": "markdown",
   "metadata": {},
   "source": [
    "Start\n",
    "    Input exam_score\n",
    "    Input attendance_percentage\n",
    "\n",
    "    If exam_score >= 50:\n",
    "        If attendance_percentage >= 75:\n",
    "            Print \"Pass\"\n",
    "        Else:\n",
    "            Print \"Fail due to low attendance\"\n",
    "    Else:\n",
    "        Print \"Fail due to low exam score\"\n",
    "End"
   ]
  },
  {
   "cell_type": "markdown",
   "metadata": {},
   "source": [
    "# Homework Hack Python Segment"
   ]
  },
  {
   "cell_type": "code",
   "execution_count": null,
   "metadata": {},
   "outputs": [],
   "source": [
    "weight = float(input(\"Enter the weight of the package in kg: \"))\n",
    "speed = input(\"Enter delivery speed (standard/express): \").lower()\n",
    "\n",
    "if weight > 0:\n",
    "    if speed == \"standard\":\n",
    "        if weight <= 2:\n",
    "            cost = 5.00\n",
    "        elif weight <= 5:\n",
    "            cost = 10.00\n",
    "        else:\n",
    "            cost = 15.00\n",
    "    elif speed == \"express\":\n",
    "        if weight <= 2:\n",
    "            cost = 10.00\n",
    "        elif weight <= 5:\n",
    "            cost = 20.00\n",
    "        else:\n",
    "            cost = 30.00\n",
    "    else:\n",
    "        print(\"Invalid delivery speed selected.\")\n",
    "        cost = None\n",
    "\n",
    "    if cost:\n",
    "        print(f\"The shipping cost is ${cost:.2f}\")\n",
    "else:\n",
    "    print(\"Invalid weight entered.\")"
   ]
  },
  {
   "cell_type": "markdown",
   "metadata": {},
   "source": [
    "# Challenge Hack"
   ]
  },
  {
   "cell_type": "code",
   "execution_count": null,
   "metadata": {},
   "outputs": [],
   "source": [
    "# Input the three sides of the triangle\n",
    "side1 = float(input(\"Enter the first side of the triangle: \"))\n",
    "side2 = float(input(\"Enter the second side of the triangle: \"))\n",
    "side3 = float(input(\"Enter the third side of the triangle: \"))\n",
    "\n",
    "# Check if the inputs are valid (positive numbers)\n",
    "if side1 > 0 and side2 > 0 and side3 > 0:\n",
    "    \n",
    "    # Check if the sides form a valid triangle (Triangle Inequality Theorem)\n",
    "    if (side1 + side2 > side3) and (side1 + side3 > side2) and (side2 + side3 > side1):\n",
    "        \n",
    "        # Determine the type of triangle using nested conditionals\n",
    "        if side1 == side2 == side3:\n",
    "            print(\"Equilateral Triangle: All sides are equal.\")\n",
    "        elif side1 == side2 or side2 == side3 or side1 == side3:\n",
    "            print(\"Isosceles Triangle: Two sides are equal.\")\n",
    "        else:\n",
    "            print(\"Scalene Triangle: No sides are equal.\")\n",
    "    \n",
    "    else:\n",
    "        print(\"The sides do not form a valid triangle.\")\n",
    "else:\n",
    "    print(\"Invalid input. Sides must be positive numbers.\")"
   ]
  }
 ],
 "metadata": {
  "kernelspec": {
   "display_name": "venv",
   "language": "python",
   "name": "python3"
  },
  "language_info": {
   "name": "python",
   "version": "3.10.12"
  }
 },
 "nbformat": 4,
 "nbformat_minor": 2
}

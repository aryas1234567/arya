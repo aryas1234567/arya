{
 "cells": [
  {
   "cell_type": "raw",
   "metadata": {
    "vscode": {
     "languageId": "raw"
    }
   },
   "source": [
    "---\n",
    "layout: post\n",
    "title: 3.2 Hacks \n",
    "description:  Popcorn and Homework hacks completed from lesson \n",
    "type: issues \n",
    "comments: true\n",
    "---"
   ]
  },
  {
   "cell_type": "markdown",
   "metadata": {},
   "source": [
    "# 3.2 Popcorn Hack 1"
   ]
  },
  {
   "cell_type": "code",
   "execution_count": null,
   "metadata": {},
   "outputs": [],
   "source": [
    "# Define a dictionary with Valorant content categorized by type\n",
    "valorant_content = {\n",
    "    \"Agents\": [\"Jett\", \"Phoenix\", \"Sova\", \"Omen\", \"Killjoy\"],\n",
    "    \"Maps\": [\"Bind\", \"Haven\", \"Ascent\", \"Icebox\", \"Fracture\"],\n",
    "    \"Weapons\": [\"Vandal\", \"Phantom\", \"Operator\", \"Sheriff\", \"Spectre\"],\n",
    "    \"Skins\": [\"Prime Vandal\", \"Reaver Phantom\", \"Oni Operator\", \"Glitchpop Sheriff\", \"Elderflame Vandal\"]\n",
    "}\n",
    "\n",
    "# Function to print the list of Valorant content by category\n",
    "def print_valorant_content(content):\n",
    "    for category, items in content.items():\n",
    "        print(f\"\\n{category}:\")\n",
    "        for item in items:\n",
    "            print(f\" - {item}\")\n",
    "\n",
    "# Call the function to display Valorant content\n",
    "print_valorant_content(valorant_content)\n"
   ]
  },
  {
   "cell_type": "markdown",
   "metadata": {},
   "source": [
    "# 3.2 Popcorn Hack 2"
   ]
  },
  {
   "cell_type": "code",
   "execution_count": null,
   "metadata": {},
   "outputs": [],
   "source": [
    "# Define a dictionary with sprints and their content\n",
    "sprints = {\n",
    "    'Sprint1': ['Cookie Clicker Game', 'Snake Game', 'About Me'],\n",
    "    'Sprint2': ['Tool Setup', 'Calculator', 'Mini Blog']\n",
    "}\n",
    "\n",
    "# Print content of Sprint1\n",
    "print(sprints['Sprint1'])\n",
    "\n",
    "# Check if \"Cookie Clicker Game\" is part of Sprint1\n",
    "if \"Cookie Clicker Game\" in sprints['Sprint1']:\n",
    "    print(True) \n",
    "else:\n",
    "    print(False)"
   ]
  },
  {
   "cell_type": "markdown",
   "metadata": {},
   "source": [
    "# 3.3 Popcorn Hack 3"
   ]
  },
  {
   "cell_type": "code",
   "execution_count": null,
   "metadata": {},
   "outputs": [
    {
     "ename": "",
     "evalue": "",
     "output_type": "error",
     "traceback": [
      "\u001b[1;31mRunning cells with 'venv (Python 3.10.12)' requires the ipykernel package.\n",
      "\u001b[1;31mRun the following command to install 'ipykernel' into the Python environment. \n",
      "\u001b[1;31mCommand: '/home/aryas/nighthawk/arya/venv/bin/python -m pip install ipykernel -U --force-reinstall'"
     ]
    }
   ],
   "source": [
    "soccer_tournaments = [\n",
    "    {\n",
    "        \"tournament_name\": \"UEFA Champions League\",\n",
    "        \"year\": 2023,\n",
    "        \"teams\": [\"Manchester City\", \"Inter Milan\"],\n",
    "        \"winner\": \"Manchester City\"\n",
    "    },\n",
    "    {\n",
    "        \"tournament_name\": \"FIFA World Cup\",\n",
    "        \"year\": 2022,\n",
    "        \"teams\": [\"Argentina\", \"France\"],\n",
    "        \"winner\": \"Argentina\"\n",
    "    },\n",
    "    {\n",
    "        \"tournament_name\": \"Copa America\",\n",
    "        \"year\": 2021,\n",
    "        \"teams\": [\"Argentina\", \"Brazil\"],\n",
    "        \"winner\": \"Argentina\"\n",
    "    },\n",
    "    {\n",
    "        \"tournament_name\": \"UEFA Euro\",\n",
    "        \"year\": 2020,\n",
    "        \"teams\": [\"Italy\", \"England\"],\n",
    "        \"winner\": \"Italy\"\n",
    "    }\n",
    "]\n",
    "\n",
    "for tournament in soccer_tournaments:\n",
    "    print(f\"Tournament: {tournament['tournament_name']}, Winner: {tournament['winner']}\")\n"
   ]
  },
  {
   "cell_type": "markdown",
   "metadata": {},
   "source": [
    "# Homework Hack"
   ]
  },
  {
   "cell_type": "code",
   "execution_count": null,
   "metadata": {},
   "outputs": [],
   "source": [
    "# Define a dictionary with Valorant content categorized by 9 different data types\n",
    "valorant_data = {\n",
    "    \"Agents\": [\"Jett\", \"Reyna\", \"Omen\", \"Killjoy\", \"Phoenix\"],\n",
    "    \"Maps\": [\"Ascent\", \"Bind\", \"Haven\", \"Split\", \"Lotus\"],\n",
    "    \"Weapons\": [\"Vandal\", \"Phantom\", \"Operator\", \"Spectre\", \"Sheriff\"],\n",
    "    \"Skins\": [\"Prime Vandal\", \"Reaver Phantom\", \"Elderflame Operator\", \"Glitchpop Spectre\", \"Oni Sheriff\"],\n",
    "    \"Abilities\": [\"Jett's Dash\", \"Phoenix's Curveball\", \"Omen's Paranoia\", \"Killjoy's Lockdown\", \"Reyna's Leer\"],\n",
    "    \"Game Modes\": [\"Unrated\", \"Competitive\", \"Spike Rush\", \"Deathmatch\", \"Escalation\"],\n",
    "    \"Teams\": [\"Sentinels\", \"Fnatic\", \"Paper Rex\", \"LOUD\", \"Team Liquid\"],\n",
    "    \"Tournaments\": [\"VCT Champions\", \"Valorant Masters\", \"First Strike\", \"Game Changers\", \"Challengers\"],\n",
    "    \"Strategies\": [\"Default Setup\", \"Double Duelist Push\", \"Aggressive Mid Control\", \"Slow A-Split\", \"Retake Strategy\"]\n",
    "}\n",
    "\n",
    "# Function to print the list of Valorant data by category\n",
    "def print_valorant_data(data):\n",
    "    for category, items in data.items():\n",
    "        print(f\"\\n{category}:\")\n",
    "        for item in items:\n",
    "            print(f\" - {item}\")\n",
    "\n",
    "# Call the function to display Valorant content\n",
    "print_valorant_data(valorant_data)"
   ]
  }
 ],
 "metadata": {
  "kernelspec": {
   "display_name": "venv",
   "language": "python",
   "name": "python3"
  },
  "language_info": {
   "name": "python",
   "version": "3.10.12"
  }
 },
 "nbformat": 4,
 "nbformat_minor": 2
}

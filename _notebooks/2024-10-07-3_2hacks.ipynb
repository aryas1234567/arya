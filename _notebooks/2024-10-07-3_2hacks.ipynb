{
 "cells": [
  {
   "cell_type": "raw",
   "metadata": {
    "vscode": {
     "languageId": "raw"
    }
   },
   "source": [
    "---\n",
    "layout: post\n",
    "title: 3.2 Hacks \n",
    "description:  Popcorn and Homework hacks completed from lesson \n",
    "type: issues \n",
    "comments: true\n",
    "---"
   ]
  },
  {
   "cell_type": "markdown",
   "metadata": {},
   "source": [
    "# 3.2 Popcorn Hack"
   ]
  },
  {
   "cell_type": "code",
   "execution_count": null,
   "metadata": {},
   "outputs": [
    {
     "ename": "",
     "evalue": "",
     "output_type": "error",
     "traceback": [
      "\u001b[1;31mRunning cells with 'venv (Python 3.10.12)' requires the ipykernel package.\n",
      "\u001b[1;31mRun the following command to install 'ipykernel' into the Python environment. \n",
      "\u001b[1;31mCommand: '/home/aryas/nighthawk/arya/venv/bin/python -m pip install ipykernel -U --force-reinstall'"
     ]
    }
   ],
   "source": [
    "soccer_tournaments = [\n",
    "    {\n",
    "        \"tournament_name\": \"UEFA Champions League\",\n",
    "        \"year\": 2023,\n",
    "        \"teams\": [\"Manchester City\", \"Inter Milan\"],\n",
    "        \"winner\": \"Manchester City\"\n",
    "    },\n",
    "    {\n",
    "        \"tournament_name\": \"FIFA World Cup\",\n",
    "        \"year\": 2022,\n",
    "        \"teams\": [\"Argentina\", \"France\"],\n",
    "        \"winner\": \"Argentina\"\n",
    "    },\n",
    "    {\n",
    "        \"tournament_name\": \"Copa America\",\n",
    "        \"year\": 2021,\n",
    "        \"teams\": [\"Argentina\", \"Brazil\"],\n",
    "        \"winner\": \"Argentina\"\n",
    "    },\n",
    "    {\n",
    "        \"tournament_name\": \"UEFA Euro\",\n",
    "        \"year\": 2020,\n",
    "        \"teams\": [\"Italy\", \"England\"],\n",
    "        \"winner\": \"Italy\"\n",
    "    }\n",
    "]\n",
    "\n",
    "for tournament in soccer_tournaments:\n",
    "    print(f\"Tournament: {tournament['tournament_name']}, Winner: {tournament['winner']}\")\n"
   ]
  },
  {
   "cell_type": "markdown",
   "metadata": {},
   "source": [
    "# 3.1 Homework Hack "
   ]
  },
  {
   "cell_type": "code",
   "execution_count": null,
   "metadata": {
    "vscode": {
     "languageId": "javascript"
    }
   },
   "outputs": [],
   "source": [
    "%%js\n",
    "\n",
    "\n",
    "// Data Set\n",
    "const fullName = \"Arya Savlani\";\n",
    "const age = 15;\n",
    "const email = \"arya.savlani@gmail.com;\n",
    "const hobby = \"Playing Soccer\";\n",
    "const dietaryPreferences = \"Meat\";\n",
    "\n",
    "// Generate a unique ID by reversing the full name and appending a hash of the age\n",
    "const reversedName = fullName.split(\"\").reverse().join(\"\"); // Reverses the name\n",
    "const uniqueID = reversedName + (age * 23).toString(); // Multiplies age by 23 and converts to string\n",
    "\n",
    "// Create an object to store the data\n",
    "const personalInfo = {\n",
    "    fullName: fullName,\n",
    "    age: age,\n",
    "    email: email,\n",
    "    hobby: hobby,\n",
    "    dietaryPreferences: dietaryPreferences,\n",
    "    uniqueID: uniqueID\n",
    "};\n",
    "\n",
    "// Displaying the data\n",
    "console.log(\"Personal Info:\");\n",
    "console.log(\"- Full Name: \" + personalInfo.fullName);\n",
    "console.log(\"- Age: \" + personalInfo.age);\n",
    "console.log(\"- Email: \" + personalInfo.email);\n",
    "console.log(\"- Hobby: \" + personalInfo.hobby);\n",
    "console.log(\"- Dietary Preferences: \" + personalInfo.dietaryPreferences);\n",
    "console.log(\"- Unique ID: \" + personalInfo.uniqueID);\n",
    "\n",
    "// Or using template literals for cleaner formatting\n",
    "console.log(`\n",
    "Personal Info:\n",
    "- Full Name: ${personalInfo.fullName}\n",
    "- Age: ${personalInfo.age}\n",
    "- Email: ${personalInfo.email}\n",
    "- Hobby: ${personalInfo.hobby}\n",
    "- Dietary Preferences: ${personalInfo.dietaryPreferences}\n",
    "- Unique ID: ${personalInfo.uniqueID}\n",
    "`);\n"
   ]
  },
  {
   "cell_type": "markdown",
   "metadata": {},
   "source": [
    "# 3.4 Homework Hack\n",
    "- checks if psword is at least 8 letters long\n",
    "- must have one uppercase letter and one lowercase letter\n",
    "- must have at least one digit and special character"
   ]
  },
  {
   "cell_type": "code",
   "execution_count": null,
   "metadata": {
    "vscode": {
     "languageId": "javascript"
    }
   },
   "outputs": [],
   "source": [
    "%%js\n",
    "\n",
    "// Function to validate the password\n",
    "function validatePassword(password) {\n",
    "    const minLength = 8;\n",
    "    const hasUppercase = /[A-Z]/.test(password);     // Check for uppercase letters\n",
    "    const hasLowercase = /[a-z]/.test(password);     // Check for lowercase letters\n",
    "    const hasDigit = /[0-9]/.test(password);         // Check for digits\n",
    "    const hasSpecialChar = /[!@#$%^&*(),.?\":{}|<>]/.test(password);  // Check for special characters\n",
    "    const lengthValid = password.length >= minLength; // Check if length is valid\n",
    "\n",
    "    // Feedback for each criterion\n",
    "    if (!lengthValid) {\n",
    "        console.log(\"Password must be at least \" + minLength + \" characters long.\");\n",
    "    }\n",
    "    if (!hasUppercase) {\n",
    "        console.log(\"Password must contain at least one uppercase letter.\");\n",
    "    }\n",
    "    if (!hasLowercase) {\n",
    "        console.log(\"Password must contain at least one lowercase letter.\");\n",
    "    }\n",
    "    if (!hasDigit) {\n",
    "        console.log(\"Password must contain at least one digit.\");\n",
    "    }\n",
    "    if (!hasSpecialChar) {\n",
    "        console.log(\"Password must contain at least one special character.\");\n",
    "    }\n",
    "\n",
    "    // Final check\n",
    "    if (lengthValid && hasUppercase && hasLowercase && hasDigit && hasSpecialChar) {\n",
    "        console.log(\"Password is valid!\");\n",
    "    } else {\n",
    "        console.log(\"Password is invalid.\");\n",
    "    }\n",
    "}\n",
    "\n",
    "// Test the password validator\n",
    "const password = prompt(\"Enter a password to validate:\");\n",
    "validatePassword(password);\n"
   ]
  }
 ],
 "metadata": {
  "kernelspec": {
   "display_name": "venv",
   "language": "python",
   "name": "python3"
  },
  "language_info": {
   "name": "python",
   "version": "3.10.12"
  }
 },
 "nbformat": 4,
 "nbformat_minor": 2
}

{
 "cells": [
  {
   "cell_type": "raw",
   "metadata": {
    "vscode": {
     "languageId": "raw"
    }
   },
   "source": [
    "---\n",
    "layout: post\n",
    "title: Full Stack Review\n",
    "description: Full stack reivew for check on tuesday 1/28\n",
    "type: issues \n",
    "comments: true\n",
    "---"
   ]
  },
  {
   "cell_type": "markdown",
   "metadata": {},
   "source": [
    "# Purpose of Our Website:\n",
    "The purpose of our website is to allow students to make their school life easier, whether it's through making friends, chatting with their classmates, or knowing their schedule and when each class ends. "
   ]
  },
  {
   "cell_type": "markdown",
   "metadata": {},
   "source": [
    "# Purpose of My Feature\n",
    "The purpose of my feature is a chatroom to allow classmates to discuss with each other. My program enables innovation through "
   ]
  },
  {
   "cell_type": "markdown",
   "metadata": {},
   "source": [
    "# CRUD Operations:\n",
    "In building the chatroom for Neptune for Students, I implemented the four fundamental CRUD operations:\n",
    "\n",
    "GET (Read) – Retrieves all chat messages as an array.\n",
    "\n",
    "POST (Create) – Allows users to send new messages.\n",
    "\n",
    "PUT (Update) – Enables users to edit their existing messages.\n",
    "\n",
    "DELETE (Delete) – Removes a message from the chat.\n",
    "\n",
    "Each Message in the Chatroom contains:"
   ]
  },
  {
   "cell_type": "markdown",
   "metadata": {
    "vscode": {
     "languageId": "raw"
    }
   },
   "source": [
    "| Column    | Type   | Description |\n",
    "|-----------|--------|-------------|\n",
    "| id        | Number | A unique identifier for each message. |\n",
    "| user      | String | The username of the person sending the message. |\n",
    "| text      | String | The content of the message. |"
   ]
  },
  {
   "cell_type": "markdown",
   "metadata": {},
   "source": [
    "# 1. Create ( POST)\n",
    "\n",
    "The sendMessage function allows users to create new chat messages. When a user enters their name and message, it emits a chat_message event to the server. The message is then displayed in the chat."
   ]
  },
  {
   "cell_type": "code",
   "execution_count": null,
   "metadata": {
    "vscode": {
     "languageId": "javascript"
    }
   },
   "outputs": [],
   "source": [
    "function sendMessage() {\n",
    "  const username = document.getElementById(\"usernameInput\").value;\n",
    "  const message = document.getElementById(\"messageInput\").value;\n",
    "\n",
    "  if (username && message) {\n",
    "    const messageId = Date.now(); // Generate a unique ID for the message\n",
    "    socket.emit(\"chat_message\", { id: messageId, user: username, text: message });\n",
    "    document.getElementById(\"messageInput\").value = \"\";\n",
    "  }\n",
    "}"
   ]
  },
  {
   "cell_type": "markdown",
   "metadata": {},
   "source": [
    "Backend:\n",
    "\n",
    "The backend listens for the chat_message event. When a new message is received, it creates a new Message object and stores it in the database with msg.create().After saving the message, the backend emits the chat_message event back to all connected clients (broadcast=True) to display the new message."
   ]
  },
  {
   "cell_type": "code",
   "execution_count": null,
   "metadata": {},
   "outputs": [],
   "source": [
    "@socketio.on('chat_message')\n",
    "def handle_chat_message(data):\n",
    "    msg = Message(data[\"text\"], data[\"user\"])\n",
    "    msg.create()  # Save the message in the database\n",
    "    emit('chat_message', data, broadcast=True)  # Broadcast the new message to all clients"
   ]
  },
  {
   "cell_type": "markdown",
   "metadata": {},
   "source": [
    "# 2. Read (GET: Display Messages in Chat)\n",
    "\n",
    "When the server broadcasts a new message, the chat_message event updates the UI by calling displayMessage, which adds the message to the chat."
   ]
  },
  {
   "cell_type": "code",
   "execution_count": null,
   "metadata": {
    "vscode": {
     "languageId": "javascript"
    }
   },
   "outputs": [],
   "source": [
    "socket.on(\"chat_message\", (data) => {\n",
    "    displayMessage(data.id, `${data.user}: ${data.text}`);\n",
    "  });\n",
    "  "
   ]
  },
  {
   "cell_type": "markdown",
   "metadata": {},
   "source": [
    "The function displayMessage creates a list item for the message and appends it to the chat list."
   ]
  },
  {
   "cell_type": "code",
   "execution_count": null,
   "metadata": {
    "vscode": {
     "languageId": "javascript"
    }
   },
   "outputs": [],
   "source": [
    "function displayMessage(id, message) {\n",
    "    const messageList = document.getElementById(\"messages\");\n",
    "    const newMessage = document.createElement(\"li\");\n",
    "    newMessage.id = id;\n",
    "  \n",
    "    const messageText = document.createElement(\"span\");\n",
    "    messageText.textContent = message;\n",
    "  \n",
    "    newMessage.appendChild(messageText);\n",
    "    messageList.appendChild(newMessage);\n",
    "  }  "
   ]
  },
  {
   "cell_type": "markdown",
   "metadata": {},
   "source": [
    "Backend:\n",
    "\n",
    "When a client connects, the server retrieves all stored messages from the database using Message.query.all() and emits each message using emit('chat_message', ...). It also sends a welcome message ('Welcome to the chat!') to the client."
   ]
  },
  {
   "cell_type": "code",
   "execution_count": null,
   "metadata": {},
   "outputs": [],
   "source": [
    "@socketio.on('connect')\n",
    "def handle_connect():\n",
    "    messages = Message.query.all()  # Get all messages from the database\n",
    "    for message in messages:\n",
    "        emit('chat_message', {\"user\": message._user, \"text\": message._content, \"id\": message.id})  # Send each message to the client\n",
    "    emit('chat_message', {'user': 'Server', 'text': 'Welcome to the chat!'})  # Send a welcome message\n"
   ]
  },
  {
   "cell_type": "markdown",
   "metadata": {},
   "source": [
    "# 3. Update (PUT: Edit a Message)\n",
    "\n",
    "Users can update messages by clicking the Update button. This triggers a prompt where they can enter the new message content. The updated message is then sent to the server using the chat_update event."
   ]
  },
  {
   "cell_type": "code",
   "execution_count": null,
   "metadata": {
    "vscode": {
     "languageId": "javascript"
    }
   },
   "outputs": [],
   "source": [
    "updateButton.onclick = () => {\n",
    "    let __msg = prompt(\"New Message:\");\n",
    "    if (!__msg) return;\n",
    "  \n",
    "    socket.emit(\"chat_update\", { id, content: __msg })\n",
    "    messageText.textContent = `${message.split(\": \")[0]}: ${__msg}`;\n",
    "  };  "
   ]
  },
  {
   "cell_type": "markdown",
   "metadata": {},
   "source": [
    "When the server processes the update, it sends back a chat_up event, which modifies the message in the chat."
   ]
  },
  {
   "cell_type": "code",
   "execution_count": null,
   "metadata": {
    "vscode": {
     "languageId": "javascript"
    }
   },
   "outputs": [],
   "source": [
    "socket.on(\"chat_up\", (data) => {\n",
    "    const messEl = document.getElementById(data.id);\n",
    "    messEl.textContent = data.content;\n",
    "  });  "
   ]
  },
  {
   "cell_type": "markdown",
   "metadata": {},
   "source": [
    "Backend:\n",
    "\n",
    "The backend listens for the chat_update event. When it receives the event, it checks if the message exists and then updates its content in the database (msg.update({\"content\": new_content})). Once the message is updated, the server emits the chat_up event to all clients to reflect the changes."
   ]
  },
  {
   "cell_type": "code",
   "execution_count": null,
   "metadata": {},
   "outputs": [],
   "source": [
    "@socketio.on('chat_update')\n",
    "def handle_chat_update(data):\n",
    "    message_id = data.get(\"id\")\n",
    "    new_content = data.get(\"content\")\n",
    "    if not message_id or not new_content:\n",
    "        return emit(\"error\", {\"message\": \"Invalid data: 'id' and 'content' are required\"}, broadcast=False)\n",
    "\n",
    "    msg = Message.query.get(message_id)\n",
    "    if msg is None:\n",
    "        return emit(\"error\", {\"message\": \"Message not found\"}, broadcast=False)\n",
    "\n",
    "    msg.update({\"content\": new_content})  # Update the message content in the database\n",
    "    emit(\"chat_up\", {\"data\": msg.read()}, broadcast=True)  # Broadcast the updated message to all clients"
   ]
  },
  {
   "cell_type": "markdown",
   "metadata": {},
   "source": [
    "# 4. Delete (DELETE: Remove a Message)\n",
    "\n",
    "Users can delete messages by clicking the Delete button, which triggers the chat_delete event. This removes the message from both the UI and the server."
   ]
  },
  {
   "cell_type": "code",
   "execution_count": null,
   "metadata": {
    "vscode": {
     "languageId": "javascript"
    }
   },
   "outputs": [],
   "source": [
    "deleteButton.onclick = () => {\n",
    "    socket.emit(\"chat_delete\", { id });\n",
    "    document.getElementById(id).remove();\n",
    "  };  "
   ]
  },
  {
   "cell_type": "markdown",
   "metadata": {},
   "source": [
    "When the server confirms the deletion, it sends a chat_update event, ensuring the message is removed from all clients."
   ]
  },
  {
   "cell_type": "code",
   "execution_count": null,
   "metadata": {
    "vscode": {
     "languageId": "javascript"
    }
   },
   "outputs": [],
   "source": [
    "socket.on(\"chat_update\", (data) => {\n",
    "    const messEl = document.getElementById(data.id);\n",
    "    messEl.remove();\n",
    "  });  "
   ]
  },
  {
   "cell_type": "markdown",
   "metadata": {},
   "source": [
    "Backend:\n",
    "\n",
    "The backend listens for the chat_delete event. It then deletes the corresponding message from the database (msg.delete()) and then emits the chat_del event to remove the message from all clients."
   ]
  },
  {
   "cell_type": "code",
   "execution_count": null,
   "metadata": {},
   "outputs": [],
   "source": [
    "@socketio.on('chat_delete')\n",
    "def handle_chat_delete(data):\n",
    "    msg = Message.query.get(data[\"id\"])\n",
    "    msg.delete()  # Delete the message from the database\n",
    "    emit('chat_del', {\"id\": data[\"id\"]}, broadcast=True)  # Broadcast the deletion to all clients\n"
   ]
  }
 ],
 "metadata": {
  "kernelspec": {
   "display_name": "venv",
   "language": "python",
   "name": "python3"
  },
  "language_info": {
   "name": "python",
   "version": "3.10.12"
  }
 },
 "nbformat": 4,
 "nbformat_minor": 2
}

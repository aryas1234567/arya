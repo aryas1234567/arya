{
 "cells": [
  {
   "cell_type": "raw",
   "metadata": {
    "vscode": {
     "languageId": "raw"
    }
   },
   "source": [
    "---\n",
    "layout: post\n",
    "title: Retrospective\n",
    "description: Final Check\n",
    "type: issues \n",
    "comments: true\n",
    "---"
   ]
  },
  {
   "cell_type": "markdown",
   "metadata": {},
   "source": [
    "# Planning \n",
    "\n",
    "(https://github.com/DNHS-Neptune/neptune_frontend/issues/5)\n",
    "\n",
    "This is a link to my issue that I created, outlining my feature, and future plans. I created a figma drawing, as seen below, to create a visual of what this chatroom would look like."
   ]
  },
  {
   "cell_type": "markdown",
   "metadata": {
    "vscode": {
     "languageId": "raw"
    }
   },
   "source": [
    "# Burndown List + Kanban\n",
    "With the use of a burndown list, I was able to create an outline of tasks to be complteed, and check off each one. WIth our kanban board, it helped me understand what tasks were in progress and completed as well as whether this work was being done in the backend or frontend. Our kanban board as seen below helped us stay organized while creating Neptune."
   ]
  },
  {
   "cell_type": "markdown",
   "metadata": {},
   "source": [
    "# My Role as a Backend UX Engineer\n",
    "\n",
    "As a backend ux engineer, my job was to integrate admin tables in our backend. For my specific feature, I created a ui in our backend where admin users can view, edit and delete messages sent in the chatroom. I built a user-friendly interface for managing these chat logs."
   ]
  },
  {
   "cell_type": "markdown",
   "metadata": {},
   "source": [
    "Delete:\n",
    "This code calls delete on /api/chatt/delete, removing the message with the particular id."
   ]
  },
  {
   "cell_type": "code",
   "execution_count": null,
   "metadata": {
    "vscode": {
     "languageId": "javascript"
    }
   },
   "outputs": [],
   "source": [
    "function deleteLog(id) {\n",
    "    fetch(`${pythonURI}/api/chatt/delete`, {\n",
    "        ...fetchOptions,\n",
    "        method: \"DELETE\",\n",
    "        body: JSON.stringify({ id }),\n",
    "    })\n",
    "    .then((res) => res.json())\n",
    "    .then((json) => {\n",
    "        console.log(json);\n",
    "        document.location.reload();\n",
    "    });\n",
    "}"
   ]
  },
  {
   "cell_type": "markdown",
   "metadata": {},
   "source": [
    "Update:\n",
    "This creates a input box where admins can type a new message.\n",
    "Sends a PUT request to /api/chatt/delete, updating the message with the given id."
   ]
  },
  {
   "cell_type": "code",
   "execution_count": null,
   "metadata": {
    "vscode": {
     "languageId": "javascript"
    }
   },
   "outputs": [],
   "source": [
    "function updateLog(id) {\n",
    "    let msg = document.getElementById(\"up\");\n",
    "    msg.removeAttribute(\"disabled\");\n",
    "\n",
    "    let uwu = document.getElementById(\"uwu\");\n",
    "    uwu.removeAttribute(\"disabled\");\n",
    "\n",
    "    uwu.addEventListener(\"click\", () => {\n",
    "        fetch(`${pythonURI}/api/chatt/update`, {\n",
    "            ...fetchOptions,\n",
    "            method: \"PUT\",\n",
    "            body: JSON.stringify({ id, content: msg.value }),\n",
    "        })\n",
    "        .then((res) => res.json())\n",
    "        .then((json) => {\n",
    "            console.log(json);\n",
    "            msg.setAttribute(\"disabled\", \"true\");\n",
    "            uwu.setAttribute(\"disabled\", \"true\");\n",
    "            document.location.reload();\n",
    "        });\n",
    "    });\n",
    "}"
   ]
  }
 ],
 "metadata": {
  "kernelspec": {
   "display_name": "venv",
   "language": "python",
   "name": "python3"
  },
  "language_info": {
   "name": "python",
   "version": "3.10.12"
  }
 },
 "nbformat": 4,
 "nbformat_minor": 2
}

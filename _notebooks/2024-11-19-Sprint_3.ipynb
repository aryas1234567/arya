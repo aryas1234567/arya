{
 "cells": [
  {
   "cell_type": "raw",
   "metadata": {
    "vscode": {
     "languageId": "raw"
    }
   },
   "source": [
    "---\n",
    "layout: post\n",
    "title: Sprint 3 Summary\n",
    "description: Sumary and Objectives of Sprint 3\n",
    "type: issues \n",
    "comments: true\n",
    "---"
   ]
  },
  {
   "cell_type": "markdown",
   "metadata": {
    "vscode": {
     "languageId": "raw"
    }
   },
   "source": [
    "# Sprint 3"
   ]
  },
  {
   "cell_type": "code",
   "execution_count": null,
   "metadata": {
    "vscode": {
     "languageId": "html"
    }
   },
   "outputs": [],
   "source": [
    "Contributions:\n",
    "| Role          | Name       |\n",
    "|---------------|------------|\n",
    "| Scrum Master  | [Shawn Ray]|\n",
    "| Frontend      | [Shawn Ray, Aarav Sonara]\n",
    "| Backend       | [Arya Savlani]|\n",
    "| Integrator    | [Shawn Ray]|"
   ]
  },
  {
   "cell_type": "markdown",
   "metadata": {
    "vscode": {
     "languageId": "raw"
    }
   },
   "source": [
    "For Sprint 3, our task was to plan, design, code, and develop a fully interactive social media platform where users could chat and engage with each other. For Mr. Brown’s Period 1 class, our theme was “Shared Interests,” and we chose the subtheme of school subjects. The project required both front-end development, focusing on the visual design and overall aesthetics of the site, and back-end development, which involved managing the data and content stored within the platform.\n",
    "\n",
    "We created a website where users can discuss various school subjects and topics with others. Additional features included a fully functional school timer and a resources tab. One of our main challenges was seamlessly integrating the back-end with the front-end while ensuring the website remained fully functional, especially as multiple team members worked on it simultaneously."
   ]
  },
  {
   "cell_type": "markdown",
   "metadata": {},
   "source": [
    "# Backend Development:"
   ]
  },
  {
   "cell_type": "markdown",
   "metadata": {},
   "source": [
    "I was in charge of the backend development, and heres how I did it. I ran db_init.py and db_migrate.py as first step to initiate and get data in the backend databases. I then ran the backend server and checked basic authentication url by using Postman. The API ran successfully in Postman and gave an authentication success Token. I was able to run /api/groups and /api/channels successfully in Postman as well."
   ]
  },
  {
   "cell_type": "markdown",
   "metadata": {},
   "source": [
    "\n",
    "I successfully used these 3 API calls back in my frontend and adding everything to a dropdown menu without issues using the JavaScript fetch to get all of the channels and groups."
   ]
  },
  {
   "cell_type": "code",
   "execution_count": null,
   "metadata": {
    "vscode": {
     "languageId": "javascript"
    }
   },
   "outputs": [],
   "source": [
    "#js\n",
    "const s = await fetch(`${pythonURI}/api/channels`, fetchOptions);\n",
    "            if (!s.ok) {\n",
    "                throw new Error('Failed to fetch channels: ' + s.statusText);\n",
    "            }\n",
    "            const g = await s.json();\n",
    "            const groupS = document.getElementById('channel_id');\n",
    "            g.forEach(group => {\n",
    "                const opt = document.createElement('option');\n",
    "                opt.value = group.id;\n",
    "                opt.textContent = group.name;\n",
    "                groupS.appendChild(opt);\n",
    "            });"
   ]
  },
  {
   "cell_type": "markdown",
   "metadata": {},
   "source": [
    "My biggest challenge was when I started using /api/posts. It kept giving me an error that the authentication is failing \"Error adding post: Failed to add post: UNAUTHORIZED\". I tried to resolve this my calling the /api/authenticate from my JavaScript and passing the credentials \"include\" in the fetchoptions as seen here:"
   ]
  },
  {
   "cell_type": "markdown",
   "metadata": {
    "vscode": {
     "languageId": "html"
    }
   },
   "source": [
    "<img src=\"{{site.baseurl}}/images/post adding eror.png\" alt=\"Tennis\" width=\"300\" height=\"300\">"
   ]
  },
  {
   "cell_type": "code",
   "execution_count": null,
   "metadata": {
    "vscode": {
     "languageId": "javascript"
    }
   },
   "outputs": [],
   "source": [
    "#js\n",
    "const response = await fetch(`${pythonURI}/api/post`, {\n",
    "                               method: 'POST',\n",
    "                              mode: 'cors', // no-cors, *cors, same-origin\n",
    "    cache: 'default', // *default, no-cache, reload, force-cache, only-if-cached\n",
    "    credentials: 'include', // include, same-origin, omit\n",
    "    headers: {\n",
    "        'Content-Type': 'application/json',\n",
    "        'X-Origin': 'client' // New custom header to identify source\n",
    "    },\n",
    "                body: JSON.stringify(postData)\n",
    "            });"
   ]
  },
  {
   "cell_type": "markdown",
   "metadata": {},
   "source": [
    "It turns out that the issue was needing to login first to get the authentication token and solve ths issue. After solving these issues, I was successfully able to connect my frontend and backend, and everytime a post was made, in my backend terminal, it would show something like this. Overall this exeperience helped me learn how to use fetch, Postman and authenticate a working backend. I am the most proud of my backend development, and as seen in this photo, the working get posts and get groups in my backend terminal."
   ]
  },
  {
   "cell_type": "markdown",
   "metadata": {},
   "source": [
    "<img src=\"{{site.baseurl}}/images/terminal.png\" alt=\"Tennis\" width=\"750\" height=\"300\">"
   ]
  }
 ],
 "metadata": {
  "kernelspec": {
   "display_name": "venv",
   "language": "python",
   "name": "python3"
  },
  "language_info": {
   "name": "python",
   "version": "3.10.12"
  }
 },
 "nbformat": 4,
 "nbformat_minor": 2
}
